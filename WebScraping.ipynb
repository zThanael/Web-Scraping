{
 "cells": [
  {
   "cell_type": "markdown",
   "id": "6857566a-ab9d-40b8-89c5-058eaf8f3446",
   "metadata": {},
   "source": [
    "<center> <h1> Web Scraping com Python </h1> </center>\n",
    "<br>\n",
    " Web scraping é um jeito de trazer raspar (extrair) dados da web."
   ]
  },
  {
   "cell_type": "markdown",
   "id": "aaebb915-a7fd-47a5-a628-7bc250c4f3ea",
   "metadata": {},
   "source": [
    "<hr>\n",
    "<h2> Bibliotecas Utilizadas </h2>\n",
    "\n",
    "<blockquote> A biblioteca que mais sera utilizada é a BeautifulSoup"
   ]
  },
  {
   "cell_type": "code",
   "execution_count": 1,
   "id": "f2a846de-0ad3-4e5f-9781-da60e3ba5caa",
   "metadata": {},
   "outputs": [],
   "source": [
    "from bs4 import BeautifulSoup \n",
    "import requests\n",
    "import pandas as pd"
   ]
  },
  {
   "cell_type": "markdown",
   "id": "62a2ef99-4327-4a44-907a-1710f5e86084",
   "metadata": {},
   "source": [
    "<h2> Encontrar um site do qual, sera realizada a extração dos dados. </h2>\n",
    "No meu caso irei utilizar o site do <b>Coing Gecko</b> (Acompanhamento de cripto moedas) <br>\n",
    "url: <a href='https://www.coingecko.com/pt'> https://www.coingecko.com/pt"
   ]
  },
  {
   "cell_type": "markdown",
   "id": "1008141a-4342-4f91-bd22-d8be58df9557",
   "metadata": {},
   "source": [
    "<h3> 1° Passo é realizar um request para o site, para obter seu html"
   ]
  },
  {
   "cell_type": "code",
   "execution_count": 2,
   "id": "3cc94fd5-9fb7-4993-ba56-ead9eef0df3a",
   "metadata": {},
   "outputs": [],
   "source": [
    "request = requests.get('https://www.coingecko.com/pt')"
   ]
  },
  {
   "cell_type": "code",
   "execution_count": 3,
   "id": "4872f289-1436-4b5d-ac38-e19ff071e8bf",
   "metadata": {
    "tags": []
   },
   "outputs": [],
   "source": [
    "# Para acessar este html precisamos acessar o request.content\n",
    "html = request.content"
   ]
  },
  {
   "cell_type": "markdown",
   "id": "7c92f2d0-195d-4a66-bcb1-6d506c7b4173",
   "metadata": {},
   "source": [
    "<h3> 2° Passo vamos ler este HTML através do BeautifulSoup"
   ]
  },
  {
   "cell_type": "code",
   "execution_count": 4,
   "id": "538f9420-9bde-41ef-91b3-5db420083c8b",
   "metadata": {},
   "outputs": [],
   "source": [
    "soup = BeautifulSoup(html,'html.parser')"
   ]
  },
  {
   "cell_type": "code",
   "execution_count": 5,
   "id": "4f349742-daed-49cc-954e-8a2bfa05990d",
   "metadata": {
    "tags": []
   },
   "outputs": [],
   "source": [
    "#Para printar de uma maneira mais agradavel vamos usar o Pretiffy()\n",
    "#print(soup.prettify())\n",
    "# Isso printara de maneira identada todo o HTML do SITE"
   ]
  },
  {
   "cell_type": "markdown",
   "id": "172fb6b4-d8b4-4dc6-952a-0e8f0949b830",
   "metadata": {},
   "source": [
    "<h3> 3° Passo é estudar o HTML e encontrar as tags das informações que deseja extrair </h3>\n",
    "As informações que eu desejo extrair do <a href='https://www.coingecko.com/pt'> CoinGecko </a> são informações referentes aquela tabela com 100 criptomoedas:\n",
    "<li> Nome: </li>\n",
    "<li> Token: </li>\n",
    "<li> Preço: </li>\n",
    "<li> Volume em 24 hrs </li>\n",
    "<li> Capitalização de mercado </li>"
   ]
  },
  {
   "cell_type": "markdown",
   "id": "f40bb18d-2ef5-4504-8cdf-4790819af6f8",
   "metadata": {},
   "source": [
    "<h4> Um grande Aliado nisso é utilizar o proprio <b> inspecionar elemento </b> do google, e buscar as informações atravês do <b> CRTL F </b> "
   ]
  },
  {
   "cell_type": "markdown",
   "id": "23e413ab-2a1a-4fc0-a73f-b3629ec40ef2",
   "metadata": {},
   "source": [
    "<h3>  3° Passo extrair as informações desejadas </h3>\n",
    "Dentro deste passo iremos utilizar o find() e find_all() do beautiful soup"
   ]
  },
  {
   "cell_type": "markdown",
   "id": "5d731e1a-c53a-4b35-881b-70f0b8014d77",
   "metadata": {},
   "source": [
    "<h4> Vamos obter o nome primeiro </h4>\n",
    "<li> Precisamos achar as tags que armazenam os nomes, utilizaremos o find_all</li>\n",
    "<li> Obter o nome da cripto de dentro da tag, vamos usar o get_text() </li>\n",
    "<li> Como o nome vem com alguma formatação, vamos remover os '\\n' do nome </li>"
   ]
  },
  {
   "cell_type": "code",
   "execution_count": 6,
   "id": "fde7d85c-f1b1-4825-af56-8287dcdefa5e",
   "metadata": {},
   "outputs": [],
   "source": [
    "# Obter todas as partes do HTML referente ao nome da moeda.\n",
    "tag_names = soup.find_all('a',{'tw-hidden lg:tw-flex font-bold tw-items-center tw-justify-between'})"
   ]
  },
  {
   "cell_type": "code",
   "execution_count": 7,
   "id": "15d0dbfc-93ea-436c-bd5b-ba7d295764a7",
   "metadata": {},
   "outputs": [],
   "source": [
    "# Loop para pegar os nomes\n",
    "names = []\n",
    "for name in tag_names:\n",
    "    names.append(name.get_text().replace('\\n',''))"
   ]
  },
  {
   "cell_type": "code",
   "execution_count": 8,
   "id": "6d371355-f151-402e-b095-327c738baa85",
   "metadata": {},
   "outputs": [
    {
     "data": {
      "text/plain": [
       "'Bitcoin'"
      ]
     },
     "execution_count": 8,
     "metadata": {},
     "output_type": "execute_result"
    }
   ],
   "source": [
    "names[0]"
   ]
  },
  {
   "cell_type": "markdown",
   "id": "5d36d2a4-7bff-41b9-bc27-c29cc443bd49",
   "metadata": {},
   "source": [
    "<h4> Agora vamos realizar o mesmo processo para as outras informações </h4>"
   ]
  },
  {
   "cell_type": "markdown",
   "id": "8c878720-032a-4915-8eb3-8f3634efe163",
   "metadata": {},
   "source": [
    "<h4> <li> Token"
   ]
  },
  {
   "cell_type": "code",
   "execution_count": 9,
   "id": "b002a674-77f7-46f3-a81d-fa7c1766b881",
   "metadata": {},
   "outputs": [],
   "source": [
    "# Loop para pegar os nomes\n",
    "tokens = []\n",
    "\n",
    "tag_tokens = soup.find_all('a',{'d-lg-none font-bold tw-w-12'})\n",
    "\n",
    "for token in tag_tokens:\n",
    "    tokens.append(token.get_text().replace('\\n',''))"
   ]
  },
  {
   "cell_type": "code",
   "execution_count": 10,
   "id": "f48d2076-d8ec-4c63-81ef-7adaacf65c64",
   "metadata": {},
   "outputs": [
    {
     "data": {
      "text/plain": [
       "'BTC'"
      ]
     },
     "execution_count": 10,
     "metadata": {},
     "output_type": "execute_result"
    }
   ],
   "source": [
    "tokens[0]"
   ]
  },
  {
   "cell_type": "markdown",
   "id": "fe70476c-9ffd-4427-ac39-6110616eb3ad",
   "metadata": {},
   "source": [
    "<h4> <li>  Preço"
   ]
  },
  {
   "cell_type": "code",
   "execution_count": 11,
   "id": "8952b685-2606-46b4-bba3-c6c0b5939175",
   "metadata": {},
   "outputs": [],
   "source": [
    "td_price = soup.findChildren('td',{'class':'td-price price text-right pl-0'})"
   ]
  },
  {
   "cell_type": "code",
   "execution_count": 12,
   "id": "55bffa28-703a-42c4-8099-eca9990316b4",
   "metadata": {},
   "outputs": [],
   "source": [
    "prices = []\n",
    "for td in td_price:\n",
    "    prices.append(td.find('span').getText().replace('$','')\n",
    "                                                .replace('.','')\n",
    "                                                .replace(',','.'))"
   ]
  },
  {
   "cell_type": "markdown",
   "id": "27443968-77d7-4758-8634-c61c7c4f8045",
   "metadata": {},
   "source": [
    "<h4> <li> Voluma em 24 horas"
   ]
  },
  {
   "cell_type": "code",
   "execution_count": 13,
   "id": "6e966bb3-229c-4d03-bf6a-ac1df0eb15cf",
   "metadata": {},
   "outputs": [],
   "source": [
    "td_volume = soup.findChildren('td',{'class':'td-liquidity_score lit text-right col-market'})"
   ]
  },
  {
   "cell_type": "code",
   "execution_count": 14,
   "id": "55757850-4f4a-48ed-b04d-b88690a393b1",
   "metadata": {},
   "outputs": [],
   "source": [
    "volumes = []\n",
    "for td in td_volume:\n",
    "    volumes.append(float(td.find('span').getText().replace('$','')\n",
    "                                                .replace('.','')\n",
    "                                                .replace(',','.')))"
   ]
  },
  {
   "cell_type": "code",
   "execution_count": 15,
   "id": "48deefd3-4da7-4b47-ad00-30103c40256b",
   "metadata": {},
   "outputs": [
    {
     "data": {
      "text/plain": [
       "13680901297.0"
      ]
     },
     "execution_count": 15,
     "metadata": {},
     "output_type": "execute_result"
    }
   ],
   "source": [
    "volumes[0]"
   ]
  },
  {
   "cell_type": "markdown",
   "id": "cc4510de-f23a-4e18-9d98-88750fa6ce25",
   "metadata": {},
   "source": [
    "<h4> <li> Capitalização de Mercado"
   ]
  },
  {
   "cell_type": "code",
   "execution_count": 16,
   "id": "0ffb3304-d336-4c82-97de-df0cc6d95c10",
   "metadata": {},
   "outputs": [],
   "source": [
    "td_mercado = soup.findChildren('td',{'class':'td-market_cap cap col-market cap-price text-right'})"
   ]
  },
  {
   "cell_type": "code",
   "execution_count": 17,
   "id": "f1d543e1-92e3-458d-bba4-c022766b965a",
   "metadata": {},
   "outputs": [],
   "source": [
    "mercado = []\n",
    "for td in td_mercado:\n",
    "    mercado.append(float(td.find('span').getText().replace('$','')\n",
    "                                                .replace('.','')\n",
    "                                                .replace(',','.')))"
   ]
  },
  {
   "cell_type": "code",
   "execution_count": 18,
   "id": "c46c5b62-a9a8-4ec2-8284-1cad2971a410",
   "metadata": {},
   "outputs": [
    {
     "data": {
      "text/plain": [
       "566206038085.0"
      ]
     },
     "execution_count": 18,
     "metadata": {},
     "output_type": "execute_result"
    }
   ],
   "source": [
    "mercado[0]"
   ]
  },
  {
   "cell_type": "markdown",
   "id": "830ae79c-ac91-47b3-96e1-dcb695d60eb7",
   "metadata": {},
   "source": [
    "<h3> Agora basta criarmos um DataFrame com estes dados"
   ]
  },
  {
   "cell_type": "code",
   "execution_count": 19,
   "id": "7d35169d-4f15-4e9a-8ef1-249266740c91",
   "metadata": {},
   "outputs": [],
   "source": [
    "dados = {'name':names,\n",
    "        'token':tokens,\n",
    "        'price':prices,\n",
    "        'volume 24 hor':volumes,\n",
    "        'capitalizacao mercado':mercado}"
   ]
  },
  {
   "cell_type": "code",
   "execution_count": 20,
   "id": "3363d5a9-c4be-40f6-963c-ab636ed7c9f8",
   "metadata": {},
   "outputs": [
    {
     "data": {
      "text/html": [
       "<div>\n",
       "<style scoped>\n",
       "    .dataframe tbody tr th:only-of-type {\n",
       "        vertical-align: middle;\n",
       "    }\n",
       "\n",
       "    .dataframe tbody tr th {\n",
       "        vertical-align: top;\n",
       "    }\n",
       "\n",
       "    .dataframe thead th {\n",
       "        text-align: right;\n",
       "    }\n",
       "</style>\n",
       "<table border=\"1\" class=\"dataframe\">\n",
       "  <thead>\n",
       "    <tr style=\"text-align: right;\">\n",
       "      <th></th>\n",
       "      <th>name</th>\n",
       "      <th>token</th>\n",
       "      <th>price</th>\n",
       "      <th>volume 24 hor</th>\n",
       "      <th>capitalizacao mercado</th>\n",
       "    </tr>\n",
       "  </thead>\n",
       "  <tbody>\n",
       "    <tr>\n",
       "      <th>0</th>\n",
       "      <td>Bitcoin</td>\n",
       "      <td>BTC</td>\n",
       "      <td>29690.93</td>\n",
       "      <td>1.368090e+10</td>\n",
       "      <td>5.662060e+11</td>\n",
       "    </tr>\n",
       "    <tr>\n",
       "      <th>1</th>\n",
       "      <td>Ethereum</td>\n",
       "      <td>ETH</td>\n",
       "      <td>1773.09</td>\n",
       "      <td>8.795286e+09</td>\n",
       "      <td>2.147344e+11</td>\n",
       "    </tr>\n",
       "    <tr>\n",
       "      <th>2</th>\n",
       "      <td>Tether</td>\n",
       "      <td>USDT</td>\n",
       "      <td>1.00</td>\n",
       "      <td>2.138630e+10</td>\n",
       "      <td>7.259784e+10</td>\n",
       "    </tr>\n",
       "    <tr>\n",
       "      <th>3</th>\n",
       "      <td>USD Coin</td>\n",
       "      <td>USDC</td>\n",
       "      <td>0.999143</td>\n",
       "      <td>2.815599e+09</td>\n",
       "      <td>5.407993e+10</td>\n",
       "    </tr>\n",
       "    <tr>\n",
       "      <th>4</th>\n",
       "      <td>BNB</td>\n",
       "      <td>BNB</td>\n",
       "      <td>300.61</td>\n",
       "      <td>7.076536e+08</td>\n",
       "      <td>4.911279e+10</td>\n",
       "    </tr>\n",
       "    <tr>\n",
       "      <th>...</th>\n",
       "      <td>...</td>\n",
       "      <td>...</td>\n",
       "      <td>...</td>\n",
       "      <td>...</td>\n",
       "      <td>...</td>\n",
       "    </tr>\n",
       "    <tr>\n",
       "      <th>95</th>\n",
       "      <td>cUSDT</td>\n",
       "      <td>CUSDT</td>\n",
       "      <td>0.021768404499</td>\n",
       "      <td>1.192299e+04</td>\n",
       "      <td>5.463312e+08</td>\n",
       "    </tr>\n",
       "    <tr>\n",
       "      <th>96</th>\n",
       "      <td>Fei USD</td>\n",
       "      <td>FEI</td>\n",
       "      <td>1.00</td>\n",
       "      <td>4.555860e+06</td>\n",
       "      <td>5.389907e+08</td>\n",
       "    </tr>\n",
       "    <tr>\n",
       "      <th>97</th>\n",
       "      <td>Convex Finance</td>\n",
       "      <td>CVX</td>\n",
       "      <td>8.45</td>\n",
       "      <td>5.631589e+06</td>\n",
       "      <td>5.298025e+08</td>\n",
       "    </tr>\n",
       "    <tr>\n",
       "      <th>98</th>\n",
       "      <td>Kava</td>\n",
       "      <td>KAVA</td>\n",
       "      <td>2.49</td>\n",
       "      <td>3.757140e+07</td>\n",
       "      <td>5.069615e+08</td>\n",
       "    </tr>\n",
       "    <tr>\n",
       "      <th>99</th>\n",
       "      <td>Harmony</td>\n",
       "      <td>ONE</td>\n",
       "      <td>0.041409374581</td>\n",
       "      <td>1.735566e+07</td>\n",
       "      <td>5.043851e+08</td>\n",
       "    </tr>\n",
       "  </tbody>\n",
       "</table>\n",
       "<p>100 rows × 5 columns</p>\n",
       "</div>"
      ],
      "text/plain": [
       "              name  token           price  volume 24 hor  \\\n",
       "0          Bitcoin    BTC        29690.93   1.368090e+10   \n",
       "1         Ethereum    ETH         1773.09   8.795286e+09   \n",
       "2           Tether   USDT            1.00   2.138630e+10   \n",
       "3         USD Coin   USDC        0.999143   2.815599e+09   \n",
       "4              BNB    BNB          300.61   7.076536e+08   \n",
       "..             ...    ...             ...            ...   \n",
       "95           cUSDT  CUSDT  0.021768404499   1.192299e+04   \n",
       "96         Fei USD    FEI            1.00   4.555860e+06   \n",
       "97  Convex Finance    CVX            8.45   5.631589e+06   \n",
       "98            Kava   KAVA            2.49   3.757140e+07   \n",
       "99         Harmony    ONE  0.041409374581   1.735566e+07   \n",
       "\n",
       "    capitalizacao mercado  \n",
       "0            5.662060e+11  \n",
       "1            2.147344e+11  \n",
       "2            7.259784e+10  \n",
       "3            5.407993e+10  \n",
       "4            4.911279e+10  \n",
       "..                    ...  \n",
       "95           5.463312e+08  \n",
       "96           5.389907e+08  \n",
       "97           5.298025e+08  \n",
       "98           5.069615e+08  \n",
       "99           5.043851e+08  \n",
       "\n",
       "[100 rows x 5 columns]"
      ]
     },
     "execution_count": 20,
     "metadata": {},
     "output_type": "execute_result"
    }
   ],
   "source": [
    "df = pd.DataFrame(dados)\n",
    "df"
   ]
  },
  {
   "cell_type": "markdown",
   "id": "5d56b3a5-5742-4360-bd54-91eb62f255c9",
   "metadata": {},
   "source": [
    "<h2> Pronto! </h2>\n",
    "    \n",
    "com isso conseguimos extrair dados referentes a 100 criptomoedas do gráfico de acompanhamento do CoinGecko"
   ]
  },
  {
   "cell_type": "markdown",
   "id": "f188e9ef-47da-4f64-8bb4-5f9078069a95",
   "metadata": {},
   "source": [
    "<li> Dicas de aprimoramentos. </li>\n",
    "Perceba que muitas vezes usamos os códigos muito parecidos, portanto podemos criar funções que executem estes códigos, de modo com que basta passarmos por parametros os dados necessários.\n"
   ]
  },
  {
   "cell_type": "markdown",
   "id": "cede37ef-c9d4-4077-8e8b-0a9290d1eac8",
   "metadata": {},
   "source": [
    "<center> Caso tenha alguma dúvida relacionado a isso, basta me enviar uma mensagem </center>"
   ]
  }
 ],
 "metadata": {
  "kernelspec": {
   "display_name": "Python 3 (ipykernel)",
   "language": "python",
   "name": "python3"
  },
  "language_info": {
   "codemirror_mode": {
    "name": "ipython",
    "version": 3
   },
   "file_extension": ".py",
   "mimetype": "text/x-python",
   "name": "python",
   "nbconvert_exporter": "python",
   "pygments_lexer": "ipython3",
   "version": "3.9.7"
  }
 },
 "nbformat": 4,
 "nbformat_minor": 5
}
